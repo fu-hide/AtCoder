{
 "cells": [
  {
   "cell_type": "markdown",
   "metadata": {},
   "source": [
    "A - Kenken Race"
   ]
  },
  {
   "cell_type": "markdown",
   "metadata": {},
   "source": [
    "実行時間制限: 2 sec / メモリ制限: 1024 MB\n",
    "\n",
    "配点 : \n",
    "400\n",
    " 点\n",
    "\n",
    "問題文\n",
    "N\n",
    " 個の一列に並んだマス目があり、左から順に番号 \n",
    "1\n",
    ",\n",
    "2\n",
    ",\n",
    ".\n",
    ".\n",
    ".\n",
    ",\n",
    "N\n",
    " がついています。長さ \n",
    "N\n",
    " の ., # からなる文字列 \n",
    "S\n",
    " が与えられ、\n",
    "S\n",
    " の \n",
    "i\n",
    " 文字目が # のときマス目 \n",
    "i\n",
    " には岩が置かれており、\n",
    "S\n",
    " の \n",
    "i\n",
    " 文字目が . のときマス目 \n",
    "i\n",
    " には何も置かれていません。\n",
    "\n",
    "最初、マス目 \n",
    "A\n",
    " にすぬけ君、\n",
    "B\n",
    " にふぬけ君がいます。\n",
    "\n",
    "あなたは以下の操作を好きなだけ繰り返すことができます。\n",
    "\n",
    "すぬけ君かふぬけ君を選び、\n",
    "1\n",
    " マス右か \n",
    "2\n",
    " マス右にジャンプさせる。このときジャンプ先にマスが存在しなければならず、またそのマスに岩が置かれていたりもう一人がいてはならない。\n",
    "あなたはこの操作を繰り返し、マス目 \n",
    "C\n",
    " にすぬけ君が、\n",
    "D\n",
    " にふぬけ君がいるようにしたいです。\n",
    "\n",
    "このようなことが可能かどうかを判定してください。"
   ]
  },
  {
   "cell_type": "code",
   "execution_count": 4,
   "metadata": {},
   "outputs": [
    {
     "name": "stdout",
     "output_type": "stream",
     "text": [
      "7 1 3 6 7\n",
      ".#..#..\n",
      "Yes\n"
     ]
    }
   ],
   "source": [
    "N,A,B,C,D = map(int,input().split())\n",
    "S = list(input())\n",
    "\n",
    "#C<Dのとき　AはBを抜かなくて良い\n",
    "if C < D:\n",
    "    if ''.join(S[A:C]).find('##') == -1 and ''.join(S[B:D]).find('##') == -1:\n",
    "        print('Yes')\n",
    "    else:\n",
    "        print('No')\n",
    "        \n",
    "#C>Dのとき　AはBを抜かなければならない\n",
    "else:\n",
    "    if ''.join(S[A:C]).find('##') == -1 and ''.join(S[B:D]).find('##') == -1 and ''.join(S[B-2:D]).find('...') > 0:\n",
    "        print('Yes')\n",
    "    else:\n",
    "        print('No')"
   ]
  },
  {
   "cell_type": "code",
   "execution_count": 5,
   "metadata": {},
   "outputs": [
    {
     "data": {
      "text/plain": [
       "['.', '#', '.', '.', '#', '.', '.']"
      ]
     },
     "execution_count": 5,
     "metadata": {},
     "output_type": "execute_result"
    }
   ],
   "source": [
    "S"
   ]
  },
  {
   "cell_type": "code",
   "execution_count": 6,
   "metadata": {},
   "outputs": [
    {
     "data": {
      "text/plain": [
       "'..#'"
      ]
     },
     "execution_count": 6,
     "metadata": {},
     "output_type": "execute_result"
    }
   ],
   "source": [
    "''.join(S[2:5])"
   ]
  },
  {
   "cell_type": "code",
   "execution_count": null,
   "metadata": {},
   "outputs": [],
   "source": []
  }
 ],
 "metadata": {
  "kernelspec": {
   "display_name": "Python 3",
   "language": "python",
   "name": "python3"
  },
  "language_info": {
   "codemirror_mode": {
    "name": "ipython",
    "version": 3
   },
   "file_extension": ".py",
   "mimetype": "text/x-python",
   "name": "python",
   "nbconvert_exporter": "python",
   "pygments_lexer": "ipython3",
   "version": "3.7.0"
  }
 },
 "nbformat": 4,
 "nbformat_minor": 2
}
