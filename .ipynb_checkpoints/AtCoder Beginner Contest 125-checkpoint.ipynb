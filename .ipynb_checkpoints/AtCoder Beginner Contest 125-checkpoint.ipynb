{
 "cells": [
  {
   "cell_type": "code",
   "execution_count": null,
   "metadata": {},
   "outputs": [],
   "source": [
    "s = input().split()\n",
    "A = int(s[0])\n",
    "B = int(s[1])\n",
    "T = int(s[2])\n",
    "anser = (T + 0.5) // A * B\n",
    "print(int(anser))"
   ]
  },
  {
   "cell_type": "code",
   "execution_count": null,
   "metadata": {},
   "outputs": [],
   "source": [
    "N = input()\n",
    "V = input().split()\n",
    "C = input().split()\n",
    "ret_X_Y = 0\n",
    "V = [int(i) for i in V]\n",
    "C = [int(i) for i in C]\n",
    "for i in range(len(V)):\n",
    "    if (V[i] - C[i]) > 0:\n",
    "        ret_X_Y += V[i] - C[i]\n",
    "print(ret_X_Y)"
   ]
  },
  {
   "cell_type": "code",
   "execution_count": null,
   "metadata": {},
   "outputs": [],
   "source": []
  },
  {
   "cell_type": "code",
   "execution_count": null,
   "metadata": {},
   "outputs": [],
   "source": []
  }
 ],
 "metadata": {
  "kernelspec": {
   "display_name": "Python 3",
   "language": "python",
   "name": "python3"
  },
  "language_info": {
   "codemirror_mode": {
    "name": "ipython",
    "version": 3
   },
   "file_extension": ".py",
   "mimetype": "text/x-python",
   "name": "python",
   "nbconvert_exporter": "python",
   "pygments_lexer": "ipython3",
   "version": "3.7.0"
  }
 },
 "nbformat": 4,
 "nbformat_minor": 2
}
