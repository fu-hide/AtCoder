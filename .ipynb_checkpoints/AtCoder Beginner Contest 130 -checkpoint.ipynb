{
 "cells": [
  {
   "cell_type": "code",
   "execution_count": null,
   "metadata": {},
   "outputs": [],
   "source": [
    "N,A,B,C,D = map(int,input().split())"
   ]
  },
  {
   "cell_type": "code",
   "execution_count": null,
   "metadata": {},
   "outputs": [],
   "source": [
    "a = input.split()\n",
    "a = [int(i) for i in a]"
   ]
  },
  {
   "cell_type": "code",
   "execution_count": null,
   "metadata": {},
   "outputs": [],
   "source": [
    "X, A = map(int,input().split())\n",
    "if X < A:\n",
    "    print(0)\n",
    "else:\n",
    "    print(10)"
   ]
  },
  {
   "cell_type": "code",
   "execution_count": null,
   "metadata": {},
   "outputs": [],
   "source": [
    "N, X = map(int,input().split())\n",
    "L = input().split()\n",
    "L = [int(i) for i in L]\n",
    "\n",
    "bound_times = 0\n",
    "now_point = 0\n",
    "\n",
    "for i in L:\n",
    "    if now_point > X:\n",
    "        break\n",
    "    now_point += i\n",
    "    bound_times += 1\n",
    "\n",
    "if now_point <= X:\n",
    "    bound_times += 1\n",
    "    \n",
    "print(bound_times)"
   ]
  },
  {
   "cell_type": "code",
   "execution_count": null,
   "metadata": {},
   "outputs": [],
   "source": [
    "W, H, x, y = map(int,input().split())\n",
    "\n",
    "if (x == W/2) and (y == H/2):\n",
    "    print(float(W*H/2), ' 1')\n",
    "else:\n",
    "    print(float(W*H/2), ' 0')"
   ]
  },
  {
   "cell_type": "code",
   "execution_count": null,
   "metadata": {},
   "outputs": [],
   "source": [
    "N, K = map(int,input().split())\n",
    "a = list(map(int, input().split()))\n",
    "\n",
    "Anser = 0\n",
    "for Number_of_extractions in range(1,N+1):\n",
    "    for i in range(0,N+1-Number_of_extractions):\n",
    "        if sum(a[i:i+Number_of_extractions]) >= K:\n",
    "            Anser += 1\n",
    "print(Anser)"
   ]
  },
  {
   "cell_type": "code",
   "execution_count": null,
   "metadata": {},
   "outputs": [],
   "source": [
    "def aaa(aaa_list):\n",
    "    tmp = aaa_list[0]\n",
    "    ret_list = []\n",
    "    for i in range(1,len(aaa_list)):\n",
    "        ret_list.append(aaa_list[i]+tmp)\n",
    "        tmp = aaa_list[i]\n",
    "    return ret_list"
   ]
  },
  {
   "cell_type": "code",
   "execution_count": 2,
   "metadata": {},
   "outputs": [
    {
     "name": "stdout",
     "output_type": "stream",
     "text": [
      "3 5\n",
      "3 3 3\n",
      "3\n"
     ]
    }
   ],
   "source": [
    "N, K = map(int,input().split())\n",
    "a = list(map(int, input().split()))\n",
    "\n",
    "def aaa(aaa_list):\n",
    "    tmp = aaa_list[0]\n",
    "    ret_list = []\n",
    "    for i in range(1,len(aaa_list)):\n",
    "        ret_list.append(aaa_list[i]+tmp)\n",
    "        tmp = aaa_list[i]\n",
    "    return ret_list\n",
    "\n",
    "tar = a\n",
    "for i in range(N-1):\n",
    "    a = a + aaa(tar)\n",
    "    tar = aaa(tar)\n",
    "Anser = 0\n",
    "for i in a:\n",
    "    if i >= K:\n",
    "        Anser += 1\n",
    "        \n",
    "print(Anser)"
   ]
  },
  {
   "cell_type": "code",
   "execution_count": null,
   "metadata": {},
   "outputs": [],
   "source": [
    "N"
   ]
  },
  {
   "cell_type": "code",
   "execution_count": null,
   "metadata": {},
   "outputs": [],
   "source": []
  },
  {
   "cell_type": "code",
   "execution_count": null,
   "metadata": {},
   "outputs": [],
   "source": [
    "aaa([1,2,3,4])"
   ]
  },
  {
   "cell_type": "code",
   "execution_count": null,
   "metadata": {},
   "outputs": [],
   "source": [
    "for i in range(0,4):\n",
    "    print(i)"
   ]
  },
  {
   "cell_type": "code",
   "execution_count": null,
   "metadata": {},
   "outputs": [],
   "source": []
  },
  {
   "cell_type": "code",
   "execution_count": null,
   "metadata": {},
   "outputs": [],
   "source": [
    "N, K = map(int,input().split())\n",
    "a = list(map(int, input().split()))\n",
    "\n",
    "Anser = 0\n",
    "for Number_of_extractions in range(1,N+1):\n",
    "    tar = [1 for i in range(0,N+1-Number_of_extractions) if sum(a[i:i+Number_of_extractions]) >= K]\n",
    "    Anser += len(tar)\n",
    "print(Anser)"
   ]
  },
  {
   "cell_type": "code",
   "execution_count": null,
   "metadata": {},
   "outputs": [],
   "source": [
    "N, K = map(int,input().split())\n",
    "a = list(map(int, input().split()))\n",
    "print(len([1 for Number_of_extractions in range(1,N+1) for i in range(0,N+1-Number_of_extractions) if sum(a[i:i+Number_of_extractions]) >= K]))"
   ]
  },
  {
   "cell_type": "code",
   "execution_count": null,
   "metadata": {},
   "outputs": [],
   "source": []
  },
  {
   "cell_type": "code",
   "execution_count": null,
   "metadata": {},
   "outputs": [],
   "source": [
    "#include <iostream>\n",
    "\n",
    "using namespace std;\n",
    "\n",
    "int main(void){\n",
    "  int N, K, l, sum, i = 0, Anser = 0;\n",
    "  cin >> N;\n",
    "  cin >> K;\n",
    "  int a[N];\n",
    "  for(i = 0; i < N; i++){\n",
    "    cin >> l;\n",
    "    a[i] = l;\n",
    "  }\n",
    "\n",
    "  for(int N_of_e = 1; N_of_e < N+1; N_of_e++){\n",
    "    for(i = 0; i < N+1-N_of_e; i++){\n",
    "      sum = 0;\n",
    "      for(int j=i;j<i+N_of_e;j++){\n",
    "        sum += a[j];\n",
    "      }\n",
    "      if(sum >= K){\n",
    "        Anser += 1;\n",
    "      }\n",
    "    }\n",
    "  }\n",
    "  cout << Anser << endl;\n",
    "}"
   ]
  }
 ],
 "metadata": {
  "kernelspec": {
   "display_name": "Python 3",
   "language": "python",
   "name": "python3"
  },
  "language_info": {
   "codemirror_mode": {
    "name": "ipython",
    "version": 3
   },
   "file_extension": ".py",
   "mimetype": "text/x-python",
   "name": "python",
   "nbconvert_exporter": "python",
   "pygments_lexer": "ipython3",
   "version": "3.7.0"
  }
 },
 "nbformat": 4,
 "nbformat_minor": 2
}
