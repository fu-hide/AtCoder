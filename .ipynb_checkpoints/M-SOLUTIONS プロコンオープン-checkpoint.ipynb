{
 "cells": [
  {
   "cell_type": "markdown",
   "metadata": {},
   "source": [
    "A - Sum of Interior Angles\n",
    "\n",
    "問題文  \n",
    "3 以上の整数 N が与えられます。 正 N 角形の内角の和を求めてください。\n",
    "\n",
    "ただし、度数法を用いて、単位は出力しないでください。"
   ]
  },
  {
   "cell_type": "code",
   "execution_count": null,
   "metadata": {},
   "outputs": [],
   "source": [
    "N = int(input())\n",
    "print(180 * (N-2))"
   ]
  },
  {
   "cell_type": "markdown",
   "metadata": {},
   "source": [
    "B - Sumo\n",
    "\n",
    "問題文  \n",
    "高橋君は相撲の大会に参加しています。 大会は 15 日間行われ、高橋君は 1 日 1 番の取組を行います。 また、高橋君は 8 番以上勝つと次の大会にも参加できます。\n",
    "\n",
    "k 日目までの取組が終了しました。 高橋君の取組の結果が o, x からなる長さ k の文字列 S で与えられます。 S の i 文字目が o ならば高橋君が i 日目の取組で勝ったことを、 x ならば負けたことをそれぞれ表します。\n",
    "\n",
    "高橋君が次の大会にも参加できる可能性があるならば YES を、 そのような可能性がないならば NO を出力してください。"
   ]
  },
  {
   "cell_type": "code",
   "execution_count": 1,
   "metadata": {},
   "outputs": [
    {
     "name": "stdout",
     "output_type": "stream",
     "text": [
      "xxx\n",
      "Yes\n"
     ]
    }
   ],
   "source": [
    "S = list(input())\n",
    "\n",
    "if S.count('x') < 8:\n",
    "    print('YES')\n",
    "else:\n",
    "    print('NO')"
   ]
  },
  {
   "cell_type": "markdown",
   "metadata": {},
   "source": [
    "C - Best-of-(2n-1)\n",
    "\n",
    "問題文  \n",
    "高橋君と青木君がゲームをします。 どちらかが合計で N 回勝つまでゲームを繰り返し行います。\n",
    "\n",
    "1 回ゲームを行ったとき、高橋君が勝つ確率は A %、青木君が勝つ確率は B %、 どちらも勝たず引き分けとなる確率は C %です。 ゲームが行われる回数の期待値を求めて、以下のように出力してください。\n",
    "\n",
    "求める期待値は互いに素な整数 P, Q を用いて P⁄Q と表せます。 R×Q[equiv]P[pmod]109+7 となる 0 以上 109+6 以下の整数 R を出力してください。 (この問題の制約下で、このような R は必ず一意に存在します。)"
   ]
  },
  {
   "cell_type": "code",
   "execution_count": null,
   "metadata": {},
   "outputs": [],
   "source": [
    "s = input().split()\n",
    "\n"
   ]
  },
  {
   "cell_type": "markdown",
   "metadata": {},
   "source": [
    "D - Maximum Sum of Minimum\n",
    "\n"
   ]
  },
  {
   "cell_type": "code",
   "execution_count": null,
   "metadata": {},
   "outputs": [],
   "source": []
  },
  {
   "cell_type": "markdown",
   "metadata": {},
   "source": [
    "E - Product of Arithmetic Progression"
   ]
  },
  {
   "cell_type": "code",
   "execution_count": 12,
   "metadata": {},
   "outputs": [
    {
     "name": "stdout",
     "output_type": "stream",
     "text": [
      "2\n",
      "7 2 4\n",
      "12345 67890 2019\n",
      "9009\n",
      "916936\n"
     ]
    }
   ],
   "source": [
    "Q = int(input())\n",
    "anser_list = []\n",
    "for i in range(Q):\n",
    "    x ,d ,n = map(int,input().split())\n",
    "    \n",
    "    ans = x\n",
    "    for j in range(1,n):\n",
    "        ans = ans*(x + j*d)\n",
    "        \n",
    "    anser_list.append(ans%1000003)\n",
    "    \n",
    "for i in anser_list:\n",
    "    print(i)"
   ]
  },
  {
   "cell_type": "code",
   "execution_count": 24,
   "metadata": {},
   "outputs": [
    {
     "name": "stdout",
     "output_type": "stream",
     "text": [
      "2\n",
      "7 2 4\n",
      "12345 67890 2019\n",
      "9009\n",
      "916936\n"
     ]
    },
    {
     "data": {
      "text/plain": [
       "[None, None]"
      ]
     },
     "execution_count": 24,
     "metadata": {},
     "output_type": "execute_result"
    }
   ],
   "source": [
    "#提出用\n",
    "from operator import mul\n",
    "from functools import reduce\n",
    "\n",
    "def ans():\n",
    "    x ,d ,n = map(int,input().split())\n",
    "    return functools.reduce(operator.mul, [x + j*d for j in range(n)]) % 1000003\n",
    "\n",
    "Q = int(input())\n",
    "[print(i) for i in [ans() for i in range(Q)]]"
   ]
  },
  {
   "cell_type": "code",
   "execution_count": 28,
   "metadata": {},
   "outputs": [
    {
     "name": "stdout",
     "output_type": "stream",
     "text": [
      "2\n",
      "7 2 4\n",
      "12345 67890 2019\n",
      "9009\n",
      "916936\n"
     ]
    },
    {
     "data": {
      "text/plain": [
       "[None, None]"
      ]
     },
     "execution_count": 28,
     "metadata": {},
     "output_type": "execute_result"
    }
   ],
   "source": [
    "#提出用\n",
    "def ans():\n",
    "    x ,d ,n = map(int,input().split())\n",
    "    return  list_(x,d,n) % 1000003\n",
    "\n",
    "def list_(x ,d ,n):\n",
    "        ans = 1\n",
    "        for i in [x + j*d for j in range(n)]:\n",
    "            ans = ans * i\n",
    "        return ans\n",
    "\n",
    "Q = int(input())\n",
    "[print(i) for i in [ans() for i in range(Q)]]"
   ]
  },
  {
   "cell_type": "code",
   "execution_count": 18,
   "metadata": {},
   "outputs": [
    {
     "name": "stdout",
     "output_type": "stream",
     "text": [
      "2\n",
      "7 2 4\n",
      "12345 67890 2019\n",
      "9009\n",
      "916936\n"
     ]
    },
    {
     "data": {
      "text/plain": [
       "[None, None]"
      ]
     },
     "execution_count": 18,
     "metadata": {},
     "output_type": "execute_result"
    }
   ],
   "source": [
    "import functools\n",
    "import operator\n",
    "\n",
    "anser_list = []\n",
    "Q = int(input())\n",
    "\n",
    "for i in range(Q):\n",
    "    x,d,n = map(int,input().split())\n",
    "    anser_list.append(functools.reduce(operator.mul, [x + j*d for j in range(n)])%1000003)\n",
    "\n",
    "[print(i) for i in anser_list]"
   ]
  },
  {
   "cell_type": "code",
   "execution_count": null,
   "metadata": {},
   "outputs": [],
   "source": []
  },
  {
   "cell_type": "markdown",
   "metadata": {},
   "source": [
    "F - Random Tournament"
   ]
  },
  {
   "cell_type": "code",
   "execution_count": null,
   "metadata": {},
   "outputs": [],
   "source": [
    "N = int(input())\n"
   ]
  },
  {
   "cell_type": "code",
   "execution_count": null,
   "metadata": {},
   "outputs": [],
   "source": []
  },
  {
   "cell_type": "code",
   "execution_count": null,
   "metadata": {},
   "outputs": [],
   "source": []
  },
  {
   "cell_type": "code",
   "execution_count": null,
   "metadata": {},
   "outputs": [],
   "source": []
  },
  {
   "cell_type": "markdown",
   "metadata": {},
   "source": [
    "### 解説をみて"
   ]
  },
  {
   "cell_type": "code",
   "execution_count": null,
   "metadata": {},
   "outputs": [],
   "source": []
  }
 ],
 "metadata": {
  "kernelspec": {
   "display_name": "Python 3",
   "language": "python",
   "name": "python3"
  },
  "language_info": {
   "codemirror_mode": {
    "name": "ipython",
    "version": 3
   },
   "file_extension": ".py",
   "mimetype": "text/x-python",
   "name": "python",
   "nbconvert_exporter": "python",
   "pygments_lexer": "ipython3",
   "version": "3.7.0"
  }
 },
 "nbformat": 4,
 "nbformat_minor": 2
}
