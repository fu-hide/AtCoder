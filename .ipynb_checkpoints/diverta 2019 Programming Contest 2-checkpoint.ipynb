{
 "cells": [
  {
   "cell_type": "code",
   "execution_count": null,
   "metadata": {},
   "outputs": [],
   "source": [
    "N,A,B,C,D = map(int,input().split())"
   ]
  },
  {
   "cell_type": "code",
   "execution_count": null,
   "metadata": {},
   "outputs": [],
   "source": [
    "N,K = map(int,input().split())\n",
    "if K == 1:\n",
    "    print(0)\n",
    "else:\n",
    "    print(N-K)"
   ]
  },
  {
   "cell_type": "code",
   "execution_count": 46,
   "metadata": {},
   "outputs": [
    {
     "name": "stdout",
     "output_type": "stream",
     "text": [
      "2\n",
      "1 1\n",
      "2 2\n"
     ]
    }
   ],
   "source": [
    "N = int(input())\n",
    "ball_location = []\n",
    "for i in range(N):\n",
    "    x,y = map(int, input().split())\n",
    "    ball_location.append([x,y])"
   ]
  },
  {
   "cell_type": "code",
   "execution_count": 77,
   "metadata": {},
   "outputs": [
    {
     "name": "stdout",
     "output_type": "stream",
     "text": [
      "1\n",
      "1 1\n",
      "1\n"
     ]
    }
   ],
   "source": [
    "import collections\n",
    "N = int(input())\n",
    "ball_location = []\n",
    "for i in range(N):\n",
    "    x,y = map(int, input().split())\n",
    "    ball_location.append([x,y])\n",
    "\n",
    "vector = []\n",
    "if N <= 2:\n",
    "    print(1)\n",
    "else:\n",
    "    for i in range(N):\n",
    "        first_point = ball_location[i]\n",
    "        \n",
    "        for next_point in ball_location[0:i] + ball_location[i+1:]:\n",
    "            p = next_point[0] - first_point[0]\n",
    "            q = next_point[1] - first_point[1]\n",
    "            vector.append(str(p) + \",\" + str(q))\n",
    "            \n",
    "    print(N - collections.Counter(vector).most_common()[0][1])"
   ]
  },
  {
   "cell_type": "code",
   "execution_count": 65,
   "metadata": {},
   "outputs": [
    {
     "data": {
      "text/plain": [
       "['1,1', '-1,-1']"
      ]
     },
     "execution_count": 65,
     "metadata": {},
     "output_type": "execute_result"
    }
   ],
   "source": [
    "vector"
   ]
  },
  {
   "cell_type": "code",
   "execution_count": 96,
   "metadata": {},
   "outputs": [],
   "source": [
    "def positive_negative(target_list):\n",
    "    positive = 0\n",
    "    negative = 0\n",
    "    zero = 0\n",
    "    for i in target_list:\n",
    "        if i > 0:\n",
    "            positive = 1\n",
    "        elif i < 0:\n",
    "            negative = 1\n",
    "        else:\n",
    "            zero = 1\n",
    "            \n",
    "    if zero == 1:\n",
    "        return 0\n",
    "    elif positive == 1 and negative == 0:\n",
    "        return 1\n",
    "    elif positive == 1 and negative == 1:\n",
    "        return 2\n",
    "    else: # positive == 0 and negative == 1\n",
    "        return 3"
   ]
  },
  {
   "cell_type": "code",
   "execution_count": 103,
   "metadata": {},
   "outputs": [
    {
     "name": "stdout",
     "output_type": "stream",
     "text": [
      "3\n",
      "1 -1 2\n"
     ]
    }
   ],
   "source": [
    "N = int(input())\n",
    "A = input().split()\n",
    "A = [int(i) for i in A]"
   ]
  },
  {
   "cell_type": "code",
   "execution_count": 102,
   "metadata": {},
   "outputs": [
    {
     "data": {
      "text/plain": [
       "[-4]"
      ]
     },
     "execution_count": 102,
     "metadata": {},
     "output_type": "execute_result"
    }
   ],
   "source": [
    "A"
   ]
  },
  {
   "cell_type": "code",
   "execution_count": 104,
   "metadata": {},
   "outputs": [
    {
     "name": "stdout",
     "output_type": "stream",
     "text": [
      "4\n",
      "-1 1\n",
      "2 -2\n"
     ]
    }
   ],
   "source": [
    "print_list = []\n",
    "\n",
    "while(1):\n",
    "    if len(A) == 2:\n",
    "        break\n",
    "\n",
    "    p_n = positive_negative(A)\n",
    "    if p_n == 0:\n",
    "        A.remove(0)\n",
    "        A.append(A[0])\n",
    "        print_list.append(str(A[0])+' '+str(0))\n",
    "        A.remove(A[0])\n",
    "    \n",
    "    elif p_n == 1:\n",
    "        min1 = min(A)\n",
    "        A.remove(min1)\n",
    "        min2 = min(A)\n",
    "        A.remove(min2)\n",
    "    \n",
    "        print_list.append(str(min1)+' '+str(min2))\n",
    "        A.append(min1 - min2)\n",
    "    \n",
    "    elif p_n == 2:\n",
    "        min1 = min(A)\n",
    "        A.remove(min1)\n",
    "        max1 = max(A)\n",
    "        A.remove(max1)\n",
    "    \n",
    "        print_list.append(str(min1)+' '+str(max1))\n",
    "        A.append(min1 - max1)\n",
    "    \n",
    "    else: #p_n == 3\n",
    "        min1 = min(A)\n",
    "        A.remove(min1)\n",
    "        max1 = max(A)\n",
    "        A.remove(max1)\n",
    "\n",
    "        print_list.append(str(max1)+' '+str(min1))\n",
    "        A.append(max1 - min1)\n",
    "\n",
    "min1 = min(A)\n",
    "A.remove(min1)\n",
    "max1 = max(A)\n",
    "A.remove(max1)\n",
    "\n",
    "print_list.append(str(max1)+' '+str(min1))\n",
    "A.append(max1 - min1)\n",
    "\n",
    "\n",
    "print(A[0])\n",
    "for s in print_list:\n",
    "    print(s)"
   ]
  },
  {
   "cell_type": "code",
   "execution_count": null,
   "metadata": {},
   "outputs": [],
   "source": []
  }
 ],
 "metadata": {
  "kernelspec": {
   "display_name": "Python 3",
   "language": "python",
   "name": "python3"
  },
  "language_info": {
   "codemirror_mode": {
    "name": "ipython",
    "version": 3
   },
   "file_extension": ".py",
   "mimetype": "text/x-python",
   "name": "python",
   "nbconvert_exporter": "python",
   "pygments_lexer": "ipython3",
   "version": "3.7.0"
  }
 },
 "nbformat": 4,
 "nbformat_minor": 2
}
