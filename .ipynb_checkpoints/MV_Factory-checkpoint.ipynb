{
 "cells": [
  {
   "cell_type": "code",
   "execution_count": 1,
   "metadata": {},
   "outputs": [],
   "source": [
    "target_string = \"21 9 18\""
   ]
  },
  {
   "cell_type": "code",
   "execution_count": 25,
   "metadata": {},
   "outputs": [
    {
     "name": "stdout",
     "output_type": "stream",
     "text": [
      "5 24 7\n",
      "True\n"
     ]
    }
   ],
   "source": [
    "#使用言語：python3 入力例 \"ある時刻 開始時刻 終了時刻\"\n",
    "X, Start_Time, End_Time = map(int,input().split())\n",
    "\n",
    "if Start_Time == End_Time:\n",
    "    if Start_time == X:\n",
    "        print(\"True\")\n",
    "    else:\n",
    "        print(\"False\")\n",
    "        \n",
    "else:\n",
    "    if Start_Time > End_Time:\n",
    "        if ( Start_Time <= X and X <= 23 ) or ( 0 <= X and X < End_Time ):\n",
    "            print(\"True\")\n",
    "        else:\n",
    "            print(\"False\")            \n",
    "    else:    \n",
    "        if Start_Time <= X and X < End_Time:\n",
    "            print(\"True\")\n",
    "        else:\n",
    "            print(\"False\")"
   ]
  },
  {
   "cell_type": "code",
   "execution_count": null,
   "metadata": {},
   "outputs": [],
   "source": []
  }
 ],
 "metadata": {
  "kernelspec": {
   "display_name": "Python 3",
   "language": "python",
   "name": "python3"
  },
  "language_info": {
   "codemirror_mode": {
    "name": "ipython",
    "version": 3
   },
   "file_extension": ".py",
   "mimetype": "text/x-python",
   "name": "python",
   "nbconvert_exporter": "python",
   "pygments_lexer": "ipython3",
   "version": "3.7.0"
  }
 },
 "nbformat": 4,
 "nbformat_minor": 2
}
