{
 "cells": [
  {
   "cell_type": "code",
   "execution_count": 7,
   "metadata": {},
   "outputs": [
    {
     "name": "stdout",
     "output_type": "stream",
     "text": [
      "10 30\n",
      "15\n"
     ]
    }
   ],
   "source": [
    "s = input().split()\n",
    "A = int(s[0])\n",
    "B = int(s[1])\n",
    "\n",
    "if A >= 13:\n",
    "    print(B)\n",
    "elif A <= 5:\n",
    "    print(0)\n",
    "else:\n",
    "    print(int(B/2))"
   ]
  },
  {
   "cell_type": "code",
   "execution_count": 9,
   "metadata": {},
   "outputs": [
    {
     "name": "stdout",
     "output_type": "stream",
     "text": [
      "10 20 2\n",
      "0\n",
      "-20\n",
      "-220\n",
      "-2220\n",
      "-22220\n",
      "-222220\n",
      "-2222220\n",
      "-22222220\n",
      "-222222220\n",
      "-2222222220\n"
     ]
    }
   ],
   "source": [
    "s = input().split()\n",
    "r = int(s[0])\n",
    "D = int(s[1])\n",
    "x = int(s[2])\n",
    "\n",
    "for i in range(10):\n",
    "    x = r * x - D\n",
    "    print(x)"
   ]
  },
  {
   "cell_type": "code",
   "execution_count": 18,
   "metadata": {},
   "outputs": [
    {
     "name": "stdout",
     "output_type": "stream",
     "text": [
      "2 3\n"
     ]
    }
   ],
   "source": [
    "s = input().split()\n",
    "N = int(s[0])\n",
    "M = int(s[1])\n",
    "\n",
    "ID = list(range(1,N+1))\n",
    "\n",
    "for i in range(M):\n",
    "    s = input().split()\n",
    "    L = int(s[0])\n",
    "    R = int(s[1])    \n",
    "    ID = [i for i in ID if (i >= L) and (i <= R)]\n",
    "    \n",
    "print(len(ID))"
   ]
  },
  {
   "cell_type": "code",
   "execution_count": 45,
   "metadata": {},
   "outputs": [
    {
     "name": "stdout",
     "output_type": "stream",
     "text": [
      "10 3\n",
      "1 8 5 7 100 4 52 33 13 5\n",
      "3 10\n",
      "[10, 10, 10, 5, 7, 8, 13, 33, 52, 100]\n",
      "4 30\n",
      "[30, 30, 30, 30, 7, 8, 13, 33, 52, 100]\n",
      "1 4\n",
      "[4, 4, 5, 5, 7, 8, 13, 33, 52, 100]\n",
      "333\n"
     ]
    }
   ],
   "source": [
    "s = input().split()\n",
    "N = int(s[0])\n",
    "M = int(s[1])\n",
    "\n",
    "A = input().split()\n",
    "A = [int(i) for i in A]\n",
    "MAX = sum(A)\n",
    "A = sorted(A)\n",
    "    \n",
    "for i in range(M):\n",
    "    s = input().split()\n",
    "    B = int(s[0])\n",
    "    C = int(s[1])\n",
    "    \n",
    "    for change_num in range(B+1):\n",
    "        if A[change_num] > C:\n",
    "            break\n",
    "    \n",
    "    tmp = [C for i in range(change_num)] + A[change_num:]\n",
    "\n",
    "    if MAX < sum(tmp):\n",
    "        MAX = sum(tmp)\n",
    "\n",
    "print(MAX)"
   ]
  },
  {
   "cell_type": "code",
   "execution_count": 38,
   "metadata": {},
   "outputs": [
    {
     "data": {
      "text/plain": [
       "[3, 3, 5]"
      ]
     },
     "execution_count": 38,
     "metadata": {},
     "output_type": "execute_result"
    }
   ],
   "source": [
    "MAX"
   ]
  },
  {
   "cell_type": "code",
   "execution_count": 20,
   "metadata": {},
   "outputs": [],
   "source": [
    "A = list(range(10))"
   ]
  },
  {
   "cell_type": "code",
   "execution_count": 25,
   "metadata": {},
   "outputs": [
    {
     "data": {
      "text/plain": [
       "[0, 1, 2, 3, 4, 5, 6, 7, 8, 9]"
      ]
     },
     "execution_count": 25,
     "metadata": {},
     "output_type": "execute_result"
    }
   ],
   "source": [
    "A"
   ]
  },
  {
   "cell_type": "code",
   "execution_count": 24,
   "metadata": {},
   "outputs": [
    {
     "data": {
      "text/plain": [
       "[0, 1, 2, 3, 4, 5, 6, 7, 8]"
      ]
     },
     "execution_count": 24,
     "metadata": {},
     "output_type": "execute_result"
    }
   ],
   "source": [
    "A[0:9]"
   ]
  },
  {
   "cell_type": "code",
   "execution_count": 28,
   "metadata": {},
   "outputs": [],
   "source": [
    "B = [2,2,2] + A[3:]"
   ]
  },
  {
   "cell_type": "code",
   "execution_count": 30,
   "metadata": {},
   "outputs": [],
   "source": [
    "B = [7 for i in range(0)]"
   ]
  },
  {
   "cell_type": "code",
   "execution_count": 46,
   "metadata": {},
   "outputs": [
    {
     "data": {
      "text/plain": [
       "333"
      ]
     },
     "execution_count": 46,
     "metadata": {},
     "output_type": "execute_result"
    }
   ],
   "source": [
    "sum([30, 30, 30, 30, 7, 8, 13, 33, 52, 100])"
   ]
  },
  {
   "cell_type": "code",
   "execution_count": null,
   "metadata": {},
   "outputs": [],
   "source": [
    "10 3\n",
    "1 8 5 7 100 4 52 33 13 5\n",
    "3 10\n",
    "4 30\n",
    "1 4"
   ]
  },
  {
   "cell_type": "code",
   "execution_count": null,
   "metadata": {},
   "outputs": [],
   "source": [
    "11 3\n",
    "1 1 1 1 1 1 1 1 1 1 1\n",
    "3 1000000000\n",
    "4 1000000000\n",
    "3 1000000000"
   ]
  },
  {
   "cell_type": "code",
   "execution_count": 50,
   "metadata": {},
   "outputs": [
    {
     "name": "stdout",
     "output_type": "stream",
     "text": [
      "10 3\n",
      "1 8 5 7 100 4 52 33 13 5\n",
      "3 10\n",
      "4 30\n",
      "1 4\n",
      "338\n"
     ]
    }
   ],
   "source": [
    "s = input().split()\n",
    "N = int(s[0])\n",
    "M = int(s[1])\n",
    "\n",
    "A = input().split()\n",
    "A = [int(i) for i in A]\n",
    "MAX = sum(A)\n",
    "\n",
    "    \n",
    "for i in range(M):\n",
    "    s = input().split()\n",
    "    B = int(s[0])\n",
    "    C = int(s[1])\n",
    "    \n",
    "    A = sorted(A)\n",
    "    for change_num in range(B+1):\n",
    "        if A[change_num] > C:\n",
    "            break\n",
    "    \n",
    "    A = [C for i in range(change_num)] + A[change_num:]\n",
    "\n",
    "    if MAX < sum(A):\n",
    "        MAX = sum(A)\n",
    "\n",
    "print(MAX)"
   ]
  },
  {
   "cell_type": "code",
   "execution_count": 56,
   "metadata": {},
   "outputs": [
    {
     "name": "stdout",
     "output_type": "stream",
     "text": [
      "2 2 2 \n",
      "2\n"
     ]
    }
   ],
   "source": [
    "s = input().split()\n",
    "N = int(s[0])\n",
    "M = int(s[1])\n",
    "K = int(s[2])\n",
    "sum_K = 0\n",
    "\n",
    "for i in range(1,K):\n",
    "    for j in range(i+1, K+1):\n",
    "        sum_K += abs(i - j) + abs(i - j)\n",
    "print(sum_K)"
   ]
  },
  {
   "cell_type": "code",
   "execution_count": 51,
   "metadata": {},
   "outputs": [
    {
     "name": "stdout",
     "output_type": "stream",
     "text": [
      "1\n",
      "2\n"
     ]
    }
   ],
   "source": [
    "for i in range(1,3):\n",
    "    print(i)"
   ]
  },
  {
   "cell_type": "code",
   "execution_count": null,
   "metadata": {},
   "outputs": [],
   "source": []
  }
 ],
 "metadata": {
  "kernelspec": {
   "display_name": "Python 3",
   "language": "python",
   "name": "python3"
  },
  "language_info": {
   "codemirror_mode": {
    "name": "ipython",
    "version": 3
   },
   "file_extension": ".py",
   "mimetype": "text/x-python",
   "name": "python",
   "nbconvert_exporter": "python",
   "pygments_lexer": "ipython3",
   "version": "3.7.0"
  }
 },
 "nbformat": 4,
 "nbformat_minor": 2
}
