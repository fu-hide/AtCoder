{
 "cells": [
  {
   "cell_type": "code",
   "execution_count": 4,
   "metadata": {},
   "outputs": [
    {
     "name": "stdout",
     "output_type": "stream",
     "text": [
      "32 21\n",
      "58\n"
     ]
    }
   ],
   "source": [
    "s = input().split()\n",
    "A = int(s[0])\n",
    "P = int(s[1])\n",
    "\n",
    "print(int((A*3 + P)/2))"
   ]
  },
  {
   "cell_type": "code",
   "execution_count": null,
   "metadata": {},
   "outputs": [],
   "source": [
    "6\n",
    "khabarovsk 20\n",
    "moscow 10\n",
    "kazan 50\n",
    "kazan 35\n",
    "moscow 60\n",
    "khabarovsk 40"
   ]
  },
  {
   "cell_type": "code",
   "execution_count": null,
   "metadata": {},
   "outputs": [],
   "source": [
    "10\n",
    "yakutsk 10\n",
    "yakutsk 20\n",
    "yakutsk 30\n",
    "yakutsk 40\n",
    "yakutsk 50\n",
    "yakutsk 60\n",
    "yakutsk 70\n",
    "yakutsk 80\n",
    "yakutsk 90\n",
    "yakutsk 100"
   ]
  },
  {
   "cell_type": "code",
   "execution_count": 30,
   "metadata": {},
   "outputs": [
    {
     "name": "stdout",
     "output_type": "stream",
     "text": [
      "2\n",
      "khabarovsk 20\n",
      "moscow 10\n"
     ]
    }
   ],
   "source": [
    "N = int(input())\n",
    "\n",
    "ANS = [(input() + ' ' + str(i)).split() for i in range(1,N+1) ]"
   ]
  },
  {
   "cell_type": "code",
   "execution_count": 47,
   "metadata": {
    "collapsed": true
   },
   "outputs": [
    {
     "name": "stdout",
     "output_type": "stream",
     "text": [
      "6\n",
      "khabarovsk 20\n",
      "moscow 10\n",
      "kazan 50\n",
      "kazan 35\n",
      "moscow 60\n",
      "khabarovsk 40\n",
      "3\n",
      "4\n",
      "6\n",
      "1\n",
      "5\n",
      "2\n"
     ]
    }
   ],
   "source": [
    "N = int(input())\n",
    "ANS = [(input() + ' ' + str(i)).split() for i in range(1,N+1) ]\n",
    "\n",
    "dic = {i[0]+str(100-int(i[1])) : i[2] for i in ANS}\n",
    "for i in sorted(dic.items()):\n",
    "    print(i[1])"
   ]
  },
  {
   "cell_type": "code",
   "execution_count": 48,
   "metadata": {},
   "outputs": [
    {
     "name": "stdout",
     "output_type": "stream",
     "text": [
      "10\n",
      "yakutsk 10\n",
      "yakutsk 20\n",
      "yakutsk 30\n",
      "yakutsk 40\n",
      "yakutsk 50\n",
      "yakutsk 60\n",
      "yakutsk 70\n",
      "yakutsk 90\n",
      "yakutsk 80\n",
      "yakutsk 100\n",
      "1\n",
      "10\n",
      "2\n",
      "3\n",
      "4\n",
      "5\n",
      "6\n",
      "7\n",
      "9\n",
      "8\n"
     ]
    }
   ],
   "source": [
    "N = int(input())\n",
    "ANS = [(input() + ' ' + str(i)).split() for i in range(1,N+1) ]\n",
    "\n",
    "ANS = sorted(ANS)\n",
    "\n",
    "dic = {}\n",
    "\n",
    "\n",
    "\n"
   ]
  },
  {
   "cell_type": "code",
   "execution_count": 53,
   "metadata": {},
   "outputs": [
    {
     "name": "stdout",
     "output_type": "stream",
     "text": [
      "3\n",
      "yakutsk 40\n",
      "yakutsk 90\n",
      "yakutsk 50\n",
      "1\n",
      "3\n",
      "2\n"
     ]
    }
   ],
   "source": [
    "N = int(input())\n",
    "rec = []\n",
    "for i in range(1,N+1):\n",
    "    s = (input() + ' ' + str(i)).split()\n",
    "    rec.append((s[0],s[1],s[2]))\n",
    "    \n",
    "rec = sorted(rec)\n",
    "rec = sorted(rec, key=lambda x: x[1])\n",
    "\n",
    "for i in reversed(rec):\n",
    "    print(i[-1])"
   ]
  },
  {
   "cell_type": "code",
   "execution_count": 52,
   "metadata": {},
   "outputs": [
    {
     "data": {
      "text/plain": [
       "[('yakutsk', '100', '3'), ('yakutsk', '40', '2'), ('yakutsk', '80', '1')]"
      ]
     },
     "execution_count": 52,
     "metadata": {},
     "output_type": "execute_result"
    }
   ],
   "source": [
    "rec"
   ]
  },
  {
   "cell_type": "code",
   "execution_count": null,
   "metadata": {},
   "outputs": [],
   "source": [
    "ANS = sorted(ANS, key=lambda x: x[1])"
   ]
  },
  {
   "cell_type": "code",
   "execution_count": null,
   "metadata": {},
   "outputs": [],
   "source": [
    "s = input().split()\n",
    "N = int(s[0])\n",
    "M = int(s[1])\n",
    "\n",
    "for i in range(M):\n",
    "    s = input().split()\n",
    "    \n",
    "    [input().split() for j in range(N)]"
   ]
  },
  {
   "cell_type": "code",
   "execution_count": null,
   "metadata": {},
   "outputs": [],
   "source": []
  },
  {
   "cell_type": "code",
   "execution_count": null,
   "metadata": {},
   "outputs": [],
   "source": []
  }
 ],
 "metadata": {
  "kernelspec": {
   "display_name": "Python 3",
   "language": "python",
   "name": "python3"
  },
  "language_info": {
   "codemirror_mode": {
    "name": "ipython",
    "version": 3
   },
   "file_extension": ".py",
   "mimetype": "text/x-python",
   "name": "python",
   "nbconvert_exporter": "python",
   "pygments_lexer": "ipython3",
   "version": "3.7.0"
  }
 },
 "nbformat": 4,
 "nbformat_minor": 2
}
